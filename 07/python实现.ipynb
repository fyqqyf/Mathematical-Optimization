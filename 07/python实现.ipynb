{
 "cells": [
  {
   "cell_type": "code",
   "execution_count": 13,
   "metadata": {
    "ExecuteTime": {
     "end_time": "2020-05-05T05:35:51.752699Z",
     "start_time": "2020-05-05T05:35:50.795254Z"
    }
   },
   "outputs": [
    {
     "name": "stdout",
     "output_type": "stream",
     "text": [
      "经过 1000 次迭代，用时为: 0.364025354385376  最小值为: 0.03871043867671842 最优解为: [1.0389970849735117, 1.1091449257897874, 1.5329793198015642]\n",
      "经过 1000 次迭代，用时为: 0.3370983600616455  最小值为: 0.04145129629158868 最优解为: [1.039044058562379, 1.1080263939440844, 1.5410761806316422]\n"
     ]
    },
    {
     "data": {
      "text/plain": [
       "<matplotlib.legend.Legend at 0x1433872b5c8>"
      ]
     },
     "execution_count": 13,
     "metadata": {},
     "output_type": "execute_result"
    },
    {
     "data": {
      "image/png": "[encoded data removed]",
      "text/plain": [
       "<Figure size 432x288 with 1 Axes>"
      ]
     },
     "metadata": {
      "needs_background": "light"
     },
     "output_type": "display_data"
    }
   ],
   "source": [
    "##外点法\n",
    "import numpy as np\n",
    "from sympy import *\n",
    "import matplotlib.pyplot as plt\n",
    "import time\n",
    "from math import sqrt\n",
    "import math\n",
    "from numpy.linalg import norm\n",
    "def f(x0,x1,x2):#最优化目标函数\n",
    "    return (x0-1)**2+(x0-x1)**2+(x1-x2)**4\n",
    "def h(x0,x1,x2):#等式约束\n",
    "    x=np.array([x0,x1,x2])\n",
    "    return (x[0]*(1+x[1]**2)+x[2]**4-4-3*sqrt(2))**2\n",
    "def g1(x):#x1,x2,x3>-10的不等式约束\n",
    "    gx=[]\n",
    "    for i in range(3):\n",
    "        gx.append(x[i]+10)\n",
    "    return np.array(gx)\n",
    "def g2(x):#x1,x2,x3<10的不等式约束\n",
    "    gx=[]\n",
    "    for i in range(3):\n",
    "        gx.append(10-x[i])\n",
    "    return np.array(gx)\n",
    "def g_g1(x):#x1,x2,x3>-10的不等式约束的导数\n",
    "    return np.array([1,1,1])\n",
    "def g_g2(x):#x1,x2,x3<10的不等式约束的导数\n",
    "    return np.array([-1,-1,-1])\n",
    "def g_h(x):#等式约束的导数\n",
    "    [x0,x1,x2]=symbols('x0:3')\n",
    "    grad=[]\n",
    "    for i in range(len(x)):#用sympy中的diff模块求导\n",
    "        grad.append(np.float32((diff(h(x0,x1,x2),eval('x'+str(i))).subs({x0:x[0],x1:x[1],x2:x[2]}))))\n",
    "    return np.array(grad)\n",
    "def g_f(x):#目标函数的导数\n",
    "    [x0,x1,x2]=symbols('x0:3')\n",
    "    grad=[]\n",
    "    for i in range(len(x)):#用sympy中的diff模块求导\n",
    "        grad.append(np.float32((diff(f(x0,x1,x2),eval('x'+str(i))).subs({x0:x[0],x1:x[1],x2:x[2]}))))\n",
    "    return np.array(grad)#目标函数和等式约束的导数+不等式约束的导数，他们之和为PE函数的导数\n",
    "def update_r(x,ri1,ri2,rj):#拉格朗日算子的更新方法\n",
    "    for i in range(3):\n",
    "        ri1[i]=max(ri1[i]-miu*(x[i]+10),0)#不等式约束的更新方法\n",
    "        ri2[i]=max(ri2[i]-miu*(10-x[i]),0)\n",
    "    rj=rj-miu*h(x[0],x[1],x[2])#等式约束的更新方法\n",
    "    return ri1,ri2,rj\n",
    "def judge(x):#惩罚值的大小\n",
    "    hx=h(x[0],x[1],x[2])\n",
    "    gx=[]\n",
    "    g1x=g1(x)\n",
    "    g2x=g2(x)\n",
    "    for i in range(3):\n",
    "        gx.append(min(g1x[i],0))\n",
    "        gx.append(min(g2x[i],0))\n",
    "    gx=np.array(gx)\n",
    "    return math.fabs(hx)+np.linalg.norm(gx)**2\n",
    "def update_miu(x_now,x_pre,beta,miu):#判断惩罚值是否有足够的下降，若无，则增大惩罚参数miu\n",
    "    pre=judge(x_pre)\n",
    "    now=judge(x_now)\n",
    "    if now/pre>beta:\n",
    "        miu*=10\n",
    "    return miu\n",
    "def Lagrange(x):#拉格朗日函数\n",
    "    x0,x1,x2=x[0],x[1],x[2]\n",
    "    g_1=np.where(ri1-miu*g1(x)>0,ri1-miu*g1(x),0)\n",
    "    g_2=np.where(ri2-miu*g2(x)>0,ri1-miu*g1(x),0)\n",
    "    return f(x0,x1,x2)+1/(2*miu)*(norm(g_1)**2+norm(g_2)**2-norm(ri1)**2-norm(ri2)**2)-rj*h(x0,x1,x2)+0.5*miu*h(x0,x1,x2)**2\n",
    "\n",
    "def g_Lag(x):#拉格朗日函数的导数\n",
    "    g_1=np.where(ri1-miu*g1(x)>0,ri1-miu*g1(x),0)\n",
    "    g_2=np.where(ri2-miu*g2(x)>0,ri1-miu*g1(x),0)\n",
    "    return g_f(x)-g_1*g_g1(x)-g_2*g_g2(x)-(rj-miu*h(x[0],x[1],x[2]))*g_h(x)\n",
    "\n",
    "def train(x,miu,ri1,ri2,rj):#采用最速下降法优化\n",
    "    start=time.time()\n",
    "    last_x=np.zeros(len(x))#xk-1。\n",
    "    k=0\n",
    "    d=np.zeros(len(x))\n",
    "    to_plot=[]\n",
    "    while judge(x)>eplison and k<1000:#终止条件：两点间距离小于0.001的时候停止\n",
    "        while np.linalg.norm(x-last_x)>eplison or np.linalg.norm(last_x)==0:\n",
    "            gk=g_Lag(x)\n",
    "            d=-gk\n",
    "            step = 2\n",
    "            x0,x1,x2=x[0],x[1],x[2]\n",
    "            \n",
    "            while Lagrange(x+step*d) > Lagrange(x) +rho* step * np.dot(gk,d):#向d的方向下降，若\n",
    "                                                            #步长不满足armijio准则，则令步长变为0.8倍\n",
    "                step *= beta\n",
    "            last_x=x\n",
    "            x = x + step * d#更新x点\n",
    "        to_plot.append(f(x0,x1,x2))\n",
    "        miu=update_miu(x,last_x,0.6,miu)\n",
    "        ri1,ri2,rj=update_r(x,ri1,ri2,rj)\n",
    "        k+=1\n",
    "    print('经过',k,'次迭代，用时为:',time.time()-start,' 最小值为:',f(x0,x1,x2),'最优解为:',[x0,x1,x2])\n",
    "    return to_plot\n",
    "x=[2,2,2]\n",
    "miu=6\n",
    "rho=0.0006\n",
    "ri1,ri2,rj=np.array([1,1,1]),np.array([1,1,1]),1\n",
    "g_Lag(x)\n",
    "beta=0.4\n",
    "eplison=1e-3\n",
    "to_plot=train(x,miu,ri1,ri2,rj)\n",
    "fig,ax=plt.subplots(1,1)\n",
    "ax.plot(to_plot)\n",
    "ax.set_xlabel('times')\n",
    "ax.set_ylabel('value')\n",
    "eplison=1e-2\n",
    "to_plot=train(x,miu,ri1,ri2,rj)\n",
    "ax.plot(to_plot)\n",
    "ax.legend(['1e-3','1e-2'])\n",
    "\n"
   ]
  },
  {
   "cell_type": "code",
   "execution_count": 14,
   "metadata": {
    "ExecuteTime": {
     "end_time": "2020-05-05T05:36:18.465219Z",
     "start_time": "2020-05-05T05:36:17.551664Z"
    }
   },
   "outputs": [
    {
     "name": "stdout",
     "output_type": "stream",
     "text": [
      "经过 1000 次迭代，用时为: 0.3639993667602539  最小值为: 0.03871043867671842 最优解为: [1.0389970849735117, 1.1091449257897874, 1.5329793198015642]\n",
      "经过 1000 次迭代，用时为: 0.33411335945129395  最小值为: 0.04145129629158868 最优解为: [1.039044058562379, 1.1080263939440844, 1.5410761806316422]\n"
     ]
    },
    {
     "data": {
      "text/plain": [
       "<matplotlib.legend.Legend at 0x1433896ef88>"
      ]
     },
     "execution_count": 14,
     "metadata": {},
     "output_type": "execute_result"
    },
    {
     "data": {
      "image/png": "[encoded data removed]",
      "text/plain": [
       "<Figure size 432x288 with 1 Axes>"
      ]
     },
     "metadata": {
      "needs_background": "light"
     },
     "output_type": "display_data"
    }
   ],
   "source": [
    "##拉格朗日乘数法\n",
    "import numpy as np\n",
    "from sympy import *\n",
    "import matplotlib.pyplot as plt\n",
    "import time\n",
    "from math import sqrt\n",
    "import math\n",
    "from numpy.linalg import norm\n",
    "def f(x0,x1,x2):#最优化目标函数\n",
    "    return (x0-1)**2+(x0-x1)**2+(x1-x2)**4\n",
    "def h(x0,x1,x2):#等式约束\n",
    "    x=np.array([x0,x1,x2])\n",
    "    return (x[0]*(1+x[1]**2)+x[2]**4-4-3*sqrt(2))**2\n",
    "def g1(x):#x1,x2,x3>-10的不等式约束\n",
    "    gx=[]\n",
    "    for i in range(3):\n",
    "        gx.append(x[i]+10)\n",
    "    return np.array(gx)\n",
    "def g2(x):#x1,x2,x3<10的不等式约束\n",
    "    gx=[]\n",
    "    for i in range(3):\n",
    "        gx.append(10-x[i])\n",
    "    return np.array(gx)\n",
    "def g_g1(x):#x1,x2,x3>-10的不等式约束的导数\n",
    "    return np.array([1,1,1])\n",
    "def g_g2(x):#x1,x2,x3<10的不等式约束的导数\n",
    "    return np.array([-1,-1,-1])\n",
    "def g_h(x):#等式约束的导数\n",
    "    [x0,x1,x2]=symbols('x0:3')\n",
    "    grad=[]\n",
    "    for i in range(len(x)):#用sympy中的diff模块求导\n",
    "        grad.append(np.float32((diff(h(x0,x1,x2),eval('x'+str(i))).subs({x0:x[0],x1:x[1],x2:x[2]}))))\n",
    "    return np.array(grad)\n",
    "def g_f(x):#目标函数的导数\n",
    "    [x0,x1,x2]=symbols('x0:3')\n",
    "    grad=[]\n",
    "    for i in range(len(x)):#用sympy中的diff模块求导\n",
    "        grad.append(np.float32((diff(f(x0,x1,x2),eval('x'+str(i))).subs({x0:x[0],x1:x[1],x2:x[2]}))))\n",
    "    return np.array(grad)#目标函数和等式约束的导数+不等式约束的导数，他们之和为PE函数的导数\n",
    "def update_r(x,ri1,ri2,rj):#拉格朗日算子的更新方法\n",
    "    for i in range(3):\n",
    "        ri1[i]=max(ri1[i]-miu*(x[i]+10),0)#不等式约束的更新方法\n",
    "        ri2[i]=max(ri2[i]-miu*(10-x[i]),0)\n",
    "    rj=rj-miu*h(x[0],x[1],x[2])#等式约束的更新方法\n",
    "    return ri1,ri2,rj\n",
    "def judge(x):#惩罚值的大小\n",
    "    hx=h(x[0],x[1],x[2])\n",
    "    gx=[]\n",
    "    g1x=g1(x)\n",
    "    g2x=g2(x)\n",
    "    for i in range(3):\n",
    "        gx.append(min(g1x[i],0))\n",
    "        gx.append(min(g2x[i],0))\n",
    "    gx=np.array(gx)\n",
    "    return math.fabs(hx)+np.linalg.norm(gx)**2\n",
    "def update_miu(x_now,x_pre,beta,miu):#判断惩罚值是否有足够的下降，若无，则增大惩罚参数miu\n",
    "    pre=judge(x_pre)\n",
    "    now=judge(x_now)\n",
    "    if now/pre>beta:\n",
    "        miu*=10\n",
    "    return miu\n",
    "def Lagrange(x):#拉格朗日函数\n",
    "    x0,x1,x2=x[0],x[1],x[2]\n",
    "    g_1=np.where(ri1-miu*g1(x)>0,ri1-miu*g1(x),0)\n",
    "    g_2=np.where(ri2-miu*g2(x)>0,ri1-miu*g1(x),0)\n",
    "    return f(x0,x1,x2)+1/(2*miu)*(norm(g_1)**2+norm(g_2)**2-norm(ri1)**2-norm(ri2)**2)-rj*h(x0,x1,x2)+0.5*miu*h(x0,x1,x2)**2\n",
    "\n",
    "def g_Lag(x):#拉格朗日函数的导数\n",
    "    g_1=np.where(ri1-miu*g1(x)>0,ri1-miu*g1(x),0)\n",
    "    g_2=np.where(ri2-miu*g2(x)>0,ri1-miu*g1(x),0)\n",
    "    return g_f(x)-g_1*g_g1(x)-g_2*g_g2(x)-(rj-miu*h(x[0],x[1],x[2]))*g_h(x)\n",
    "\n",
    "def train(x,miu,ri1,ri2,rj):#采用最速下降法优化\n",
    "    start=time.time()\n",
    "    last_x=np.zeros(len(x))#xk-1。\n",
    "    k=0\n",
    "    d=np.zeros(len(x))\n",
    "    to_plot=[]\n",
    "    while judge(x)>eplison and k<1000:#终止条件：两点间距离小于0.001的时候停止\n",
    "        while np.linalg.norm(x-last_x)>eplison or np.linalg.norm(last_x)==0:\n",
    "            gk=g_Lag(x)\n",
    "            d=-gk\n",
    "            step = 2\n",
    "            x0,x1,x2=x[0],x[1],x[2]\n",
    "            \n",
    "            while Lagrange(x+step*d) > Lagrange(x) +rho* step * np.dot(gk,d):#向d的方向下降，若\n",
    "                                                            #步长不满足armijio准则，则令步长变为0.8倍\n",
    "                step *= beta\n",
    "            last_x=x\n",
    "            x = x + step * d#更新x点\n",
    "        to_plot.append(f(x0,x1,x2))\n",
    "        miu=update_miu(x,last_x,0.6,miu)\n",
    "        ri1,ri2,rj=update_r(x,ri1,ri2,rj)\n",
    "        k+=1\n",
    "    print('经过',k,'次迭代，用时为:',time.time()-start,' 最小值为:',f(x0,x1,x2),'最优解为:',[x0,x1,x2])\n",
    "    return to_plot\n",
    "x=[2,2,2]\n",
    "miu=6\n",
    "rho=0.0006\n",
    "ri1,ri2,rj=np.array([1,1,1]),np.array([1,1,1]),1\n",
    "g_Lag(x)\n",
    "beta=0.4\n",
    "eplison=1e-3\n",
    "to_plot=train(x,miu,ri1,ri2,rj)\n",
    "fig,ax=plt.subplots(1,1)\n",
    "ax.plot(to_plot)\n",
    "ax.set_xlabel('times')\n",
    "ax.set_ylabel('value')\n",
    "eplison=1e-2\n",
    "to_plot=train(x,miu,ri1,ri2,rj)\n",
    "ax.plot(to_plot)\n",
    "ax.legend(['1e-3','1e-2'])\n"
   ]
  },
  {
   "cell_type": "code",
   "execution_count": null,
   "metadata": {},
   "outputs": [],
   "source": []
  }
 ],
 "metadata": {
  "kernelspec": {
   "display_name": "Python 3",
   "language": "python",
   "name": "python3"
  },
  "language_info": {
   "codemirror_mode": {
    "name": "ipython",
    "version": 3
   },
   "file_extension": ".py",
   "mimetype": "text/x-python",
   "name": "python",
   "nbconvert_exporter": "python",
   "pygments_lexer": "ipython3",
   "version": "3.7.6"
  },
  "varInspector": {
   "cols": {
    "lenName": 16,
    "lenType": 16,
    "lenVar": 40
   },
   "kernels_config": {
    "python": {
     "delete_cmd_postfix": "",
     "delete_cmd_prefix": "del ",
     "library": "var_list.py",
     "varRefreshCmd": "print(var_dic_list())"
    },
    "r": {
     "delete_cmd_postfix": ") ",
     "delete_cmd_prefix": "rm(",
     "library": "var_list.r",
     "varRefreshCmd": "cat(var_dic_list()) "
    }
   },
   "types_to_exclude": [
    "module",
    "function",
    "builtin_function_or_method",
    "instance",
    "_Feature"
   ],
   "window_display": false
  }
 },
 "nbformat": 4,
 "nbformat_minor": 4
}
