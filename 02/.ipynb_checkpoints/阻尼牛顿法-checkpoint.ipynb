{
 "cells": [
  {
   "cell_type": "markdown",
   "metadata": {},
   "source": [
    "使用tf2实现"
   ]
  },
  {
   "cell_type": "code",
   "execution_count": 1,
   "metadata": {
    "ExecuteTime": {
     "end_time": "2020-03-12T09:23:58.827231Z",
     "start_time": "2020-03-12T09:23:53.625775Z"
    }
   },
   "outputs": [],
   "source": [
    "import numpy as np\n",
    "import tensorflow as tf"
   ]
  },
  {
   "cell_type": "code",
   "execution_count": 2,
   "metadata": {
    "ExecuteTime": {
     "end_time": "2020-03-12T09:23:59.523207Z",
     "start_time": "2020-03-12T09:23:59.518220Z"
    }
   },
   "outputs": [],
   "source": [
    "def cons(x):\n",
    "    return tf.constant(x,dtype=tf.float32)"
   ]
  },
  {
   "cell_type": "markdown",
   "metadata": {},
   "source": [
    "这里我重新定义了hessian矩阵，因为tf原生hessian函数只能计算对角线"
   ]
  },
  {
   "cell_type": "code",
   "execution_count": 12,
   "metadata": {
    "ExecuteTime": {
     "end_time": "2020-03-12T09:25:23.503855Z",
     "start_time": "2020-03-12T09:25:23.498205Z"
    }
   },
   "outputs": [],
   "source": [
    "def compute_hessian(fn, vars):\n",
    "    mat = []\n",
    "    for v1 in vars:\n",
    "        temp = []\n",
    "        for v2 in vars:\n",
    "            temp.append(tf.gradients(tf.gradients(fn, v2)[0], v1)[0])\n",
    "        temp = [cons(0) if t == None else t for t in temp]\n",
    "        temp = tf.stack(temp)\n",
    "        mat.append(temp)\n",
    "    mat = tf.stack(mat)\n",
    "    return mat"
   ]
  },
  {
   "cell_type": "markdown",
   "metadata": {},
   "source": [
    "重新定义梯度函数"
   ]
  },
  {
   "cell_type": "code",
   "execution_count": 13,
   "metadata": {
    "ExecuteTime": {
     "end_time": "2020-03-12T09:25:30.804567Z",
     "start_time": "2020-03-12T09:25:30.800000Z"
    }
   },
   "outputs": [],
   "source": [
    "def compute_grads(fn, vars):\n",
    "    grads = []\n",
    "    for v in vars:\n",
    "        grads.append(tf.gradients(fn, v)[0])\n",
    "    return tf.reshape(tf.stack(grads), shape=[2, -1])"
   ]
  },
  {
   "cell_type": "markdown",
   "metadata": {},
   "source": [
    "X向梯度方向移动的函数$X_{k+1}=X_k+\\alpha d_k$"
   ]
  },
  {
   "cell_type": "code",
   "execution_count": 10,
   "metadata": {
    "ExecuteTime": {
     "end_time": "2020-03-12T09:24:36.829908Z",
     "start_time": "2020-03-12T09:24:36.825238Z"
    }
   },
   "outputs": [],
   "source": [
    "def optimize(all_variables, update):\n",
    "    optmize_variables = []\n",
    "    for i in range(len(all_variables)):\n",
    "        optmize_variables.append(all_variables[i].assign(all_variables[i] - alpha * tf.squeeze(update[i])))\n",
    "    return tf.stack(optmize_variables)"
   ]
  },
  {
   "cell_type": "code",
   "execution_count": 16,
   "metadata": {
    "ExecuteTime": {
     "end_time": "2020-03-12T09:29:36.889053Z",
     "start_time": "2020-03-12T09:29:36.873006Z"
    }
   },
   "outputs": [],
   "source": [
    "x=tf.Variable(0,dtype=tf.float32)\n",
    "y=tf.Variable(0,dtype=tf.float32)"
   ]
  },
  {
   "cell_type": "markdown",
   "metadata": {},
   "source": [
    "$f=100(x_1^2-x_2)^2+(x_1-1)^2$"
   ]
  },
  {
   "cell_type": "code",
   "execution_count": 7,
   "metadata": {
    "ExecuteTime": {
     "end_time": "2020-03-12T09:24:06.460941Z",
     "start_time": "2020-03-12T09:24:06.444986Z"
    }
   },
   "outputs": [],
   "source": [
    "f=cons(100)*tf.pow(tf.pow(x,2)-y,2)+tf.pow(x-1,2)"
   ]
  },
  {
   "cell_type": "code",
   "execution_count": 18,
   "metadata": {
    "ExecuteTime": {
     "end_time": "2020-03-12T09:29:50.287463Z",
     "start_time": "2020-03-12T09:29:50.283448Z"
    }
   },
   "outputs": [],
   "source": [
    "all_variables=[x,y]"
   ]
  },
  {
   "cell_type": "code",
   "execution_count": 14,
   "metadata": {
    "ExecuteTime": {
     "end_time": "2020-03-12T09:25:36.567803Z",
     "start_time": "2020-03-12T09:25:35.959092Z"
    }
   },
   "outputs": [],
   "source": [
    "hessian = compute_hessian(f, all_variables)\n",
    "hessian_inv = tf.matrix_inverse(hessian)\n",
    "g = compute_grads(f, all_variables)\n",
    "update = tf.unstack(tf.matmul(hessian_inv, g))"
   ]
  },
  {
   "cell_type": "code",
   "execution_count": null,
   "metadata": {
    "ExecuteTime": {
     "end_time": "2020-03-12T09:29:52.379530Z",
     "start_time": "2020-03-12T09:29:52.355402Z"
    }
   },
   "outputs": [],
   "source": []
  },
  {
   "cell_type": "code",
   "execution_count": null,
   "metadata": {},
   "outputs": [],
   "source": []
  }
 ],
 "metadata": {
  "kernelspec": {
   "display_name": "Python 3",
   "language": "python",
   "name": "python3"
  },
  "language_info": {
   "codemirror_mode": {
    "name": "ipython",
    "version": 3
   },
   "file_extension": ".py",
   "mimetype": "text/x-python",
   "name": "python",
   "nbconvert_exporter": "python",
   "pygments_lexer": "ipython3",
   "version": "3.6.9"
  },
  "nbTranslate": {
   "displayLangs": [
    "*"
   ],
   "hotkey": "alt-t",
   "langInMainMenu": true,
   "sourceLang": "en",
   "targetLang": "fr",
   "useGoogleTranslate": true
  },
  "varInspector": {
   "cols": {
    "lenName": 16,
    "lenType": 16,
    "lenVar": 40
   },
   "kernels_config": {
    "python": {
     "delete_cmd_postfix": "",
     "delete_cmd_prefix": "del ",
     "library": "var_list.py",
     "varRefreshCmd": "print(var_dic_list())"
    },
    "r": {
     "delete_cmd_postfix": ") ",
     "delete_cmd_prefix": "rm(",
     "library": "var_list.r",
     "varRefreshCmd": "cat(var_dic_list()) "
    }
   },
   "types_to_exclude": [
    "module",
    "function",
    "builtin_function_or_method",
    "instance",
    "_Feature"
   ],
   "window_display": false
  }
 },
 "nbformat": 4,
 "nbformat_minor": 4
}
